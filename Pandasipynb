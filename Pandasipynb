{
 "cells": [
  {
   "cell_type": "code",
   "execution_count": 1,
   "id": "1f7d4b15-710a-483c-9523-67fe8e81a441",
   "metadata": {},
   "outputs": [],
   "source": [
    "import pandas as pd\n",
    "import numpy as np"
   ]
  },
  {
   "cell_type": "code",
   "execution_count": 2,
   "id": "4b8c3d7e-bc19-4c9d-8c98-0c755a1fd288",
   "metadata": {},
   "outputs": [],
   "source": [
    "dict1={\n",
    "    \"name\":['Priyanshu','Noel','Abhijeet','Prince','Raushan'],\n",
    "    \"marks\":[93,71,70,94,90],\n",
    "    \"City\":['Patna','Kharagpur','Kolkata','Mumbai','Delhi']}"
   ]
  },
  {
   "cell_type": "code",
   "execution_count": 3,
   "id": "f8de9d7b-e8ec-4363-b153-2cada0203dc3",
   "metadata": {},
   "outputs": [
    {
     "data": {
      "text/html": [
       "<div>\n",
       "<style scoped>\n",
       "    .dataframe tbody tr th:only-of-type {\n",
       "        vertical-align: middle;\n",
       "    }\n",
       "\n",
       "    .dataframe tbody tr th {\n",
       "        vertical-align: top;\n",
       "    }\n",
       "\n",
       "    .dataframe thead th {\n",
       "        text-align: right;\n",
       "    }\n",
       "</style>\n",
       "<table border=\"1\" class=\"dataframe\">\n",
       "  <thead>\n",
       "    <tr style=\"text-align: right;\">\n",
       "      <th></th>\n",
       "      <th>name</th>\n",
       "      <th>marks</th>\n",
       "      <th>City</th>\n",
       "    </tr>\n",
       "  </thead>\n",
       "  <tbody>\n",
       "    <tr>\n",
       "      <th>0</th>\n",
       "      <td>Priyanshu</td>\n",
       "      <td>93</td>\n",
       "      <td>Patna</td>\n",
       "    </tr>\n",
       "    <tr>\n",
       "      <th>1</th>\n",
       "      <td>Noel</td>\n",
       "      <td>71</td>\n",
       "      <td>Kharagpur</td>\n",
       "    </tr>\n",
       "    <tr>\n",
       "      <th>2</th>\n",
       "      <td>Abhijeet</td>\n",
       "      <td>70</td>\n",
       "      <td>Kolkata</td>\n",
       "    </tr>\n",
       "    <tr>\n",
       "      <th>3</th>\n",
       "      <td>Prince</td>\n",
       "      <td>94</td>\n",
       "      <td>Mumbai</td>\n",
       "    </tr>\n",
       "    <tr>\n",
       "      <th>4</th>\n",
       "      <td>Raushan</td>\n",
       "      <td>90</td>\n",
       "      <td>Delhi</td>\n",
       "    </tr>\n",
       "  </tbody>\n",
       "</table>\n",
       "</div>"
      ],
      "text/plain": [
       "        name  marks       City\n",
       "0  Priyanshu     93      Patna\n",
       "1       Noel     71  Kharagpur\n",
       "2   Abhijeet     70    Kolkata\n",
       "3     Prince     94     Mumbai\n",
       "4    Raushan     90      Delhi"
      ]
     },
     "execution_count": 3,
     "metadata": {},
     "output_type": "execute_result"
    }
   ],
   "source": [
    "df=pd.DataFrame(dict1)\n",
    "df"
   ]
  },
  {
   "cell_type": "code",
   "execution_count": 4,
   "id": "bf1a5072-8e7e-4185-b2d3-575ce63dc223",
   "metadata": {},
   "outputs": [],
   "source": [
    "df.to_csv('Friends_pd.csv')"
   ]
  },
  {
   "cell_type": "code",
   "execution_count": 5,
   "id": "7a7207be-027f-43bd-b268-3448d8fec4dc",
   "metadata": {},
   "outputs": [],
   "source": [
    "df.to_csv('Friends_Index_false.csv',index=False)"
   ]
  },
  {
   "cell_type": "code",
   "execution_count": 6,
   "id": "63ac3f2a-1d4d-41da-ab5e-ab002485b0bb",
   "metadata": {},
   "outputs": [
    {
     "data": {
      "text/html": [
       "<div>\n",
       "<style scoped>\n",
       "    .dataframe tbody tr th:only-of-type {\n",
       "        vertical-align: middle;\n",
       "    }\n",
       "\n",
       "    .dataframe tbody tr th {\n",
       "        vertical-align: top;\n",
       "    }\n",
       "\n",
       "    .dataframe thead th {\n",
       "        text-align: right;\n",
       "    }\n",
       "</style>\n",
       "<table border=\"1\" class=\"dataframe\">\n",
       "  <thead>\n",
       "    <tr style=\"text-align: right;\">\n",
       "      <th></th>\n",
       "      <th>name</th>\n",
       "      <th>marks</th>\n",
       "      <th>City</th>\n",
       "    </tr>\n",
       "  </thead>\n",
       "  <tbody>\n",
       "    <tr>\n",
       "      <th>0</th>\n",
       "      <td>Priyanshu</td>\n",
       "      <td>93</td>\n",
       "      <td>Patna</td>\n",
       "    </tr>\n",
       "    <tr>\n",
       "      <th>1</th>\n",
       "      <td>Noel</td>\n",
       "      <td>71</td>\n",
       "      <td>Kharagpur</td>\n",
       "    </tr>\n",
       "    <tr>\n",
       "      <th>2</th>\n",
       "      <td>Abhijeet</td>\n",
       "      <td>70</td>\n",
       "      <td>Kolkata</td>\n",
       "    </tr>\n",
       "  </tbody>\n",
       "</table>\n",
       "</div>"
      ],
      "text/plain": [
       "        name  marks       City\n",
       "0  Priyanshu     93      Patna\n",
       "1       Noel     71  Kharagpur\n",
       "2   Abhijeet     70    Kolkata"
      ]
     },
     "execution_count": 6,
     "metadata": {},
     "output_type": "execute_result"
    }
   ],
   "source": [
    "df.head(3)"
   ]
  },
  {
   "cell_type": "code",
   "execution_count": 7,
   "id": "f4f277d8-e2bc-4360-96d6-a8e5a5b1ca4f",
   "metadata": {},
   "outputs": [
    {
     "data": {
      "text/html": [
       "<div>\n",
       "<style scoped>\n",
       "    .dataframe tbody tr th:only-of-type {\n",
       "        vertical-align: middle;\n",
       "    }\n",
       "\n",
       "    .dataframe tbody tr th {\n",
       "        vertical-align: top;\n",
       "    }\n",
       "\n",
       "    .dataframe thead th {\n",
       "        text-align: right;\n",
       "    }\n",
       "</style>\n",
       "<table border=\"1\" class=\"dataframe\">\n",
       "  <thead>\n",
       "    <tr style=\"text-align: right;\">\n",
       "      <th></th>\n",
       "      <th>marks</th>\n",
       "    </tr>\n",
       "  </thead>\n",
       "  <tbody>\n",
       "    <tr>\n",
       "      <th>count</th>\n",
       "      <td>5.000000</td>\n",
       "    </tr>\n",
       "    <tr>\n",
       "      <th>mean</th>\n",
       "      <td>83.600000</td>\n",
       "    </tr>\n",
       "    <tr>\n",
       "      <th>std</th>\n",
       "      <td>12.054045</td>\n",
       "    </tr>\n",
       "    <tr>\n",
       "      <th>min</th>\n",
       "      <td>70.000000</td>\n",
       "    </tr>\n",
       "    <tr>\n",
       "      <th>25%</th>\n",
       "      <td>71.000000</td>\n",
       "    </tr>\n",
       "    <tr>\n",
       "      <th>50%</th>\n",
       "      <td>90.000000</td>\n",
       "    </tr>\n",
       "    <tr>\n",
       "      <th>75%</th>\n",
       "      <td>93.000000</td>\n",
       "    </tr>\n",
       "    <tr>\n",
       "      <th>max</th>\n",
       "      <td>94.000000</td>\n",
       "    </tr>\n",
       "  </tbody>\n",
       "</table>\n",
       "</div>"
      ],
      "text/plain": [
       "           marks\n",
       "count   5.000000\n",
       "mean   83.600000\n",
       "std    12.054045\n",
       "min    70.000000\n",
       "25%    71.000000\n",
       "50%    90.000000\n",
       "75%    93.000000\n",
       "max    94.000000"
      ]
     },
     "execution_count": 7,
     "metadata": {},
     "output_type": "execute_result"
    }
   ],
   "source": [
    "df.describe()"
   ]
  },
  {
   "cell_type": "code",
   "execution_count": 15,
   "id": "03acff92-2d25-41b6-ae72-bdd2f106bca1",
   "metadata": {},
   "outputs": [],
   "source": [
    "Pp=pd.read_csv('Pp_data.csv')"
   ]
  },
  {
   "cell_type": "code",
   "execution_count": 12,
   "id": "01fb632f-58a3-424f-b2c9-9d5635fad182",
   "metadata": {},
   "outputs": [
    {
     "data": {
      "text/html": [
       "<div>\n",
       "<style scoped>\n",
       "    .dataframe tbody tr th:only-of-type {\n",
       "        vertical-align: middle;\n",
       "    }\n",
       "\n",
       "    .dataframe tbody tr th {\n",
       "        vertical-align: top;\n",
       "    }\n",
       "\n",
       "    .dataframe thead th {\n",
       "        text-align: right;\n",
       "    }\n",
       "</style>\n",
       "<table border=\"1\" class=\"dataframe\">\n",
       "  <thead>\n",
       "    <tr style=\"text-align: right;\">\n",
       "      <th></th>\n",
       "      <th>Enrollment no.</th>\n",
       "    </tr>\n",
       "  </thead>\n",
       "  <tbody>\n",
       "    <tr>\n",
       "      <th>count</th>\n",
       "      <td>5.000000</td>\n",
       "    </tr>\n",
       "    <tr>\n",
       "      <th>mean</th>\n",
       "      <td>66046.000000</td>\n",
       "    </tr>\n",
       "    <tr>\n",
       "      <th>std</th>\n",
       "      <td>30068.870323</td>\n",
       "    </tr>\n",
       "    <tr>\n",
       "      <th>min</th>\n",
       "      <td>23490.000000</td>\n",
       "    </tr>\n",
       "    <tr>\n",
       "      <th>25%</th>\n",
       "      <td>49371.000000</td>\n",
       "    </tr>\n",
       "    <tr>\n",
       "      <th>50%</th>\n",
       "      <td>70342.000000</td>\n",
       "    </tr>\n",
       "    <tr>\n",
       "      <th>75%</th>\n",
       "      <td>93294.000000</td>\n",
       "    </tr>\n",
       "    <tr>\n",
       "      <th>max</th>\n",
       "      <td>93733.000000</td>\n",
       "    </tr>\n",
       "  </tbody>\n",
       "</table>\n",
       "</div>"
      ],
      "text/plain": [
       "       Enrollment no.\n",
       "count        5.000000\n",
       "mean     66046.000000\n",
       "std      30068.870323\n",
       "min      23490.000000\n",
       "25%      49371.000000\n",
       "50%      70342.000000\n",
       "75%      93294.000000\n",
       "max      93733.000000"
      ]
     },
     "execution_count": 12,
     "metadata": {},
     "output_type": "execute_result"
    }
   ],
   "source": [
    "Pp.describe()"
   ]
  },
  {
   "cell_type": "code",
   "execution_count": 17,
   "id": "2c57a1f2-5e5d-4657-8899-5ecc87fbca8e",
   "metadata": {},
   "outputs": [
    {
     "data": {
      "text/html": [
       "<div>\n",
       "<style scoped>\n",
       "    .dataframe tbody tr th:only-of-type {\n",
       "        vertical-align: middle;\n",
       "    }\n",
       "\n",
       "    .dataframe tbody tr th {\n",
       "        vertical-align: top;\n",
       "    }\n",
       "\n",
       "    .dataframe thead th {\n",
       "        text-align: right;\n",
       "    }\n",
       "</style>\n",
       "<table border=\"1\" class=\"dataframe\">\n",
       "  <thead>\n",
       "    <tr style=\"text-align: right;\">\n",
       "      <th></th>\n",
       "      <th>name</th>\n",
       "      <th>Enrollment no.</th>\n",
       "      <th>City</th>\n",
       "    </tr>\n",
       "  </thead>\n",
       "  <tbody>\n",
       "    <tr>\n",
       "      <th>0</th>\n",
       "      <td>Priyanshu</td>\n",
       "      <td>93733</td>\n",
       "      <td>Patna</td>\n",
       "    </tr>\n",
       "    <tr>\n",
       "      <th>1</th>\n",
       "      <td>Noel</td>\n",
       "      <td>49371</td>\n",
       "      <td>Kharagpur</td>\n",
       "    </tr>\n",
       "    <tr>\n",
       "      <th>2</th>\n",
       "      <td>Abhijeet</td>\n",
       "      <td>70342</td>\n",
       "      <td>Kolkata</td>\n",
       "    </tr>\n",
       "    <tr>\n",
       "      <th>3</th>\n",
       "      <td>Prince</td>\n",
       "      <td>93294</td>\n",
       "      <td>Mumbai</td>\n",
       "    </tr>\n",
       "    <tr>\n",
       "      <th>4</th>\n",
       "      <td>Raushan</td>\n",
       "      <td>23490</td>\n",
       "      <td>Delhi</td>\n",
       "    </tr>\n",
       "  </tbody>\n",
       "</table>\n",
       "</div>"
      ],
      "text/plain": [
       "        name  Enrollment no.       City\n",
       "0  Priyanshu           93733      Patna\n",
       "1       Noel           49371  Kharagpur\n",
       "2   Abhijeet           70342    Kolkata\n",
       "3     Prince           93294     Mumbai\n",
       "4    Raushan           23490      Delhi"
      ]
     },
     "execution_count": 17,
     "metadata": {},
     "output_type": "execute_result"
    }
   ],
   "source": [
    "Pp"
   ]
  },
  {
   "cell_type": "code",
   "execution_count": 18,
   "id": "47008a79-8d36-4e85-a98b-1c74f2888cd5",
   "metadata": {},
   "outputs": [
    {
     "data": {
      "text/plain": [
       "0        Patna\n",
       "1    Kharagpur\n",
       "2      Kolkata\n",
       "3       Mumbai\n",
       "4        Delhi\n",
       "Name: City, dtype: object"
      ]
     },
     "execution_count": 18,
     "metadata": {},
     "output_type": "execute_result"
    }
   ],
   "source": [
    "Pp['City']"
   ]
  },
  {
   "cell_type": "code",
   "execution_count": 19,
   "id": "ed82a83a-2bf0-4207-a5eb-bcfcc917db49",
   "metadata": {},
   "outputs": [
    {
     "name": "stderr",
     "output_type": "stream",
     "text": [
      "C:\\Users\\priya\\AppData\\Local\\Temp\\ipykernel_13412\\1474240577.py:1: SettingWithCopyWarning: \n",
      "A value is trying to be set on a copy of a slice from a DataFrame\n",
      "\n",
      "See the caveats in the documentation: https://pandas.pydata.org/pandas-docs/stable/user_guide/indexing.html#returning-a-view-versus-a-copy\n",
      "  Pp['City'][3]='Newyork'\n"
     ]
    }
   ],
   "source": [
    "Pp['City'][3]='Newyork'"
   ]
  },
  {
   "cell_type": "code",
   "execution_count": 20,
   "id": "447ef3b9-ad3a-435e-934f-a9c26eee59af",
   "metadata": {},
   "outputs": [
    {
     "data": {
      "text/html": [
       "<div>\n",
       "<style scoped>\n",
       "    .dataframe tbody tr th:only-of-type {\n",
       "        vertical-align: middle;\n",
       "    }\n",
       "\n",
       "    .dataframe tbody tr th {\n",
       "        vertical-align: top;\n",
       "    }\n",
       "\n",
       "    .dataframe thead th {\n",
       "        text-align: right;\n",
       "    }\n",
       "</style>\n",
       "<table border=\"1\" class=\"dataframe\">\n",
       "  <thead>\n",
       "    <tr style=\"text-align: right;\">\n",
       "      <th></th>\n",
       "      <th>name</th>\n",
       "      <th>Enrollment no.</th>\n",
       "      <th>City</th>\n",
       "    </tr>\n",
       "  </thead>\n",
       "  <tbody>\n",
       "    <tr>\n",
       "      <th>0</th>\n",
       "      <td>Priyanshu</td>\n",
       "      <td>93733</td>\n",
       "      <td>Patna</td>\n",
       "    </tr>\n",
       "    <tr>\n",
       "      <th>1</th>\n",
       "      <td>Noel</td>\n",
       "      <td>49371</td>\n",
       "      <td>Kharagpur</td>\n",
       "    </tr>\n",
       "    <tr>\n",
       "      <th>2</th>\n",
       "      <td>Abhijeet</td>\n",
       "      <td>70342</td>\n",
       "      <td>Kolkata</td>\n",
       "    </tr>\n",
       "    <tr>\n",
       "      <th>3</th>\n",
       "      <td>Prince</td>\n",
       "      <td>93294</td>\n",
       "      <td>Newyork</td>\n",
       "    </tr>\n",
       "    <tr>\n",
       "      <th>4</th>\n",
       "      <td>Raushan</td>\n",
       "      <td>23490</td>\n",
       "      <td>Delhi</td>\n",
       "    </tr>\n",
       "  </tbody>\n",
       "</table>\n",
       "</div>"
      ],
      "text/plain": [
       "        name  Enrollment no.       City\n",
       "0  Priyanshu           93733      Patna\n",
       "1       Noel           49371  Kharagpur\n",
       "2   Abhijeet           70342    Kolkata\n",
       "3     Prince           93294    Newyork\n",
       "4    Raushan           23490      Delhi"
      ]
     },
     "execution_count": 20,
     "metadata": {},
     "output_type": "execute_result"
    }
   ],
   "source": [
    "Pp"
   ]
  },
  {
   "cell_type": "code",
   "execution_count": 23,
   "id": "a03a510b-63dc-476d-8d8a-e6f9da3bde7d",
   "metadata": {},
   "outputs": [],
   "source": [
    "Pp.to_csv('Pp_data.csv')"
   ]
  },
  {
   "cell_type": "code",
   "execution_count": 25,
   "id": "35c14525-f000-4e3d-b993-fbe691019fb1",
   "metadata": {},
   "outputs": [],
   "source": [
    "Pp.index=['First','second','third','fourth','fifth']"
   ]
  },
  {
   "cell_type": "code",
   "execution_count": 26,
   "id": "920dcf85-9d6b-487e-9779-83a1ce4540b2",
   "metadata": {},
   "outputs": [
    {
     "data": {
      "text/html": [
       "<div>\n",
       "<style scoped>\n",
       "    .dataframe tbody tr th:only-of-type {\n",
       "        vertical-align: middle;\n",
       "    }\n",
       "\n",
       "    .dataframe tbody tr th {\n",
       "        vertical-align: top;\n",
       "    }\n",
       "\n",
       "    .dataframe thead th {\n",
       "        text-align: right;\n",
       "    }\n",
       "</style>\n",
       "<table border=\"1\" class=\"dataframe\">\n",
       "  <thead>\n",
       "    <tr style=\"text-align: right;\">\n",
       "      <th></th>\n",
       "      <th>name</th>\n",
       "      <th>Enrollment no.</th>\n",
       "      <th>City</th>\n",
       "    </tr>\n",
       "  </thead>\n",
       "  <tbody>\n",
       "    <tr>\n",
       "      <th>First</th>\n",
       "      <td>Priyanshu</td>\n",
       "      <td>93733</td>\n",
       "      <td>Patna</td>\n",
       "    </tr>\n",
       "    <tr>\n",
       "      <th>second</th>\n",
       "      <td>Noel</td>\n",
       "      <td>49371</td>\n",
       "      <td>Kharagpur</td>\n",
       "    </tr>\n",
       "    <tr>\n",
       "      <th>third</th>\n",
       "      <td>Abhijeet</td>\n",
       "      <td>70342</td>\n",
       "      <td>Kolkata</td>\n",
       "    </tr>\n",
       "    <tr>\n",
       "      <th>fourth</th>\n",
       "      <td>Prince</td>\n",
       "      <td>93294</td>\n",
       "      <td>Newyork</td>\n",
       "    </tr>\n",
       "    <tr>\n",
       "      <th>fifth</th>\n",
       "      <td>Raushan</td>\n",
       "      <td>23490</td>\n",
       "      <td>Delhi</td>\n",
       "    </tr>\n",
       "  </tbody>\n",
       "</table>\n",
       "</div>"
      ],
      "text/plain": [
       "             name  Enrollment no.       City\n",
       "First   Priyanshu           93733      Patna\n",
       "second       Noel           49371  Kharagpur\n",
       "third    Abhijeet           70342    Kolkata\n",
       "fourth     Prince           93294    Newyork\n",
       "fifth     Raushan           23490      Delhi"
      ]
     },
     "execution_count": 26,
     "metadata": {},
     "output_type": "execute_result"
    }
   ],
   "source": [
    "Pp"
   ]
  },
  {
   "cell_type": "code",
   "execution_count": 33,
   "id": "7e4620b1-5145-46d6-8a27-7d5cf5e86566",
   "metadata": {},
   "outputs": [],
   "source": [
    "ser=pd.Series(np.random.rand(5))"
   ]
  },
  {
   "cell_type": "code",
   "execution_count": 29,
   "id": "ff69fcd2-ec05-4a64-9873-d1ec0de6beec",
   "metadata": {},
   "outputs": [
    {
     "data": {
      "text/plain": [
       "0    0.622883\n",
       "1    0.456476\n",
       "2    0.546852\n",
       "3    0.014307\n",
       "4    0.246260\n",
       "dtype: float64"
      ]
     },
     "execution_count": 29,
     "metadata": {},
     "output_type": "execute_result"
    }
   ],
   "source": [
    "ser"
   ]
  },
  {
   "cell_type": "code",
   "execution_count": 31,
   "id": "f69c5bf7-e5c2-4876-875e-e15f19c4904e",
   "metadata": {},
   "outputs": [
    {
     "data": {
      "text/plain": [
       "pandas.core.series.Series"
      ]
     },
     "execution_count": 31,
     "metadata": {},
     "output_type": "execute_result"
    }
   ],
   "source": [
    "type(ser)"
   ]
  },
  {
   "cell_type": "code",
   "execution_count": 40,
   "id": "bea6745a-c0bc-44fd-bbfd-f7771171d9bc",
   "metadata": {},
   "outputs": [],
   "source": [
    "newdf=pd.DataFrame(np.random.rand(100,5),index=np.arange(1,101))"
   ]
  },
  {
   "cell_type": "code",
   "execution_count": 41,
   "id": "f0bcfec9-dd25-4c57-adc2-d611d4f3c561",
   "metadata": {},
   "outputs": [
    {
     "data": {
      "text/html": [
       "<div>\n",
       "<style scoped>\n",
       "    .dataframe tbody tr th:only-of-type {\n",
       "        vertical-align: middle;\n",
       "    }\n",
       "\n",
       "    .dataframe tbody tr th {\n",
       "        vertical-align: top;\n",
       "    }\n",
       "\n",
       "    .dataframe thead th {\n",
       "        text-align: right;\n",
       "    }\n",
       "</style>\n",
       "<table border=\"1\" class=\"dataframe\">\n",
       "  <thead>\n",
       "    <tr style=\"text-align: right;\">\n",
       "      <th></th>\n",
       "      <th>0</th>\n",
       "      <th>1</th>\n",
       "      <th>2</th>\n",
       "      <th>3</th>\n",
       "      <th>4</th>\n",
       "    </tr>\n",
       "  </thead>\n",
       "  <tbody>\n",
       "    <tr>\n",
       "      <th>1</th>\n",
       "      <td>0.703667</td>\n",
       "      <td>0.328596</td>\n",
       "      <td>0.531663</td>\n",
       "      <td>0.416417</td>\n",
       "      <td>0.116442</td>\n",
       "    </tr>\n",
       "    <tr>\n",
       "      <th>2</th>\n",
       "      <td>0.182759</td>\n",
       "      <td>0.459729</td>\n",
       "      <td>0.240044</td>\n",
       "      <td>0.508214</td>\n",
       "      <td>0.231422</td>\n",
       "    </tr>\n",
       "    <tr>\n",
       "      <th>3</th>\n",
       "      <td>0.153241</td>\n",
       "      <td>0.649521</td>\n",
       "      <td>0.337734</td>\n",
       "      <td>0.075116</td>\n",
       "      <td>0.204848</td>\n",
       "    </tr>\n",
       "    <tr>\n",
       "      <th>4</th>\n",
       "      <td>0.899056</td>\n",
       "      <td>0.340281</td>\n",
       "      <td>0.512930</td>\n",
       "      <td>0.988325</td>\n",
       "      <td>0.281570</td>\n",
       "    </tr>\n",
       "    <tr>\n",
       "      <th>5</th>\n",
       "      <td>0.898543</td>\n",
       "      <td>0.822770</td>\n",
       "      <td>0.664215</td>\n",
       "      <td>0.030099</td>\n",
       "      <td>0.219137</td>\n",
       "    </tr>\n",
       "    <tr>\n",
       "      <th>...</th>\n",
       "      <td>...</td>\n",
       "      <td>...</td>\n",
       "      <td>...</td>\n",
       "      <td>...</td>\n",
       "      <td>...</td>\n",
       "    </tr>\n",
       "    <tr>\n",
       "      <th>96</th>\n",
       "      <td>0.931023</td>\n",
       "      <td>0.357842</td>\n",
       "      <td>0.481903</td>\n",
       "      <td>0.223897</td>\n",
       "      <td>0.585378</td>\n",
       "    </tr>\n",
       "    <tr>\n",
       "      <th>97</th>\n",
       "      <td>0.804316</td>\n",
       "      <td>0.492418</td>\n",
       "      <td>0.590035</td>\n",
       "      <td>0.309511</td>\n",
       "      <td>0.032200</td>\n",
       "    </tr>\n",
       "    <tr>\n",
       "      <th>98</th>\n",
       "      <td>0.806047</td>\n",
       "      <td>0.001339</td>\n",
       "      <td>0.407468</td>\n",
       "      <td>0.097411</td>\n",
       "      <td>0.018291</td>\n",
       "    </tr>\n",
       "    <tr>\n",
       "      <th>99</th>\n",
       "      <td>0.626366</td>\n",
       "      <td>0.309406</td>\n",
       "      <td>0.929323</td>\n",
       "      <td>0.333772</td>\n",
       "      <td>0.831387</td>\n",
       "    </tr>\n",
       "    <tr>\n",
       "      <th>100</th>\n",
       "      <td>0.235909</td>\n",
       "      <td>0.509834</td>\n",
       "      <td>0.349463</td>\n",
       "      <td>0.095522</td>\n",
       "      <td>0.249730</td>\n",
       "    </tr>\n",
       "  </tbody>\n",
       "</table>\n",
       "<p>100 rows × 5 columns</p>\n",
       "</div>"
      ],
      "text/plain": [
       "            0         1         2         3         4\n",
       "1    0.703667  0.328596  0.531663  0.416417  0.116442\n",
       "2    0.182759  0.459729  0.240044  0.508214  0.231422\n",
       "3    0.153241  0.649521  0.337734  0.075116  0.204848\n",
       "4    0.899056  0.340281  0.512930  0.988325  0.281570\n",
       "5    0.898543  0.822770  0.664215  0.030099  0.219137\n",
       "..        ...       ...       ...       ...       ...\n",
       "96   0.931023  0.357842  0.481903  0.223897  0.585378\n",
       "97   0.804316  0.492418  0.590035  0.309511  0.032200\n",
       "98   0.806047  0.001339  0.407468  0.097411  0.018291\n",
       "99   0.626366  0.309406  0.929323  0.333772  0.831387\n",
       "100  0.235909  0.509834  0.349463  0.095522  0.249730\n",
       "\n",
       "[100 rows x 5 columns]"
      ]
     },
     "execution_count": 41,
     "metadata": {},
     "output_type": "execute_result"
    }
   ],
   "source": [
    "newdf"
   ]
  },
  {
   "cell_type": "code",
   "execution_count": 42,
   "id": "87f17498-2e7a-4f85-9a11-dd3a24d801f7",
   "metadata": {},
   "outputs": [
    {
     "data": {
      "text/html": [
       "<div>\n",
       "<style scoped>\n",
       "    .dataframe tbody tr th:only-of-type {\n",
       "        vertical-align: middle;\n",
       "    }\n",
       "\n",
       "    .dataframe tbody tr th {\n",
       "        vertical-align: top;\n",
       "    }\n",
       "\n",
       "    .dataframe thead th {\n",
       "        text-align: right;\n",
       "    }\n",
       "</style>\n",
       "<table border=\"1\" class=\"dataframe\">\n",
       "  <thead>\n",
       "    <tr style=\"text-align: right;\">\n",
       "      <th></th>\n",
       "      <th>0</th>\n",
       "      <th>1</th>\n",
       "      <th>2</th>\n",
       "      <th>3</th>\n",
       "      <th>4</th>\n",
       "    </tr>\n",
       "  </thead>\n",
       "  <tbody>\n",
       "    <tr>\n",
       "      <th>1</th>\n",
       "      <td>0.703667</td>\n",
       "      <td>0.328596</td>\n",
       "      <td>0.531663</td>\n",
       "      <td>0.416417</td>\n",
       "      <td>0.116442</td>\n",
       "    </tr>\n",
       "    <tr>\n",
       "      <th>2</th>\n",
       "      <td>0.182759</td>\n",
       "      <td>0.459729</td>\n",
       "      <td>0.240044</td>\n",
       "      <td>0.508214</td>\n",
       "      <td>0.231422</td>\n",
       "    </tr>\n",
       "    <tr>\n",
       "      <th>3</th>\n",
       "      <td>0.153241</td>\n",
       "      <td>0.649521</td>\n",
       "      <td>0.337734</td>\n",
       "      <td>0.075116</td>\n",
       "      <td>0.204848</td>\n",
       "    </tr>\n",
       "    <tr>\n",
       "      <th>4</th>\n",
       "      <td>0.899056</td>\n",
       "      <td>0.340281</td>\n",
       "      <td>0.512930</td>\n",
       "      <td>0.988325</td>\n",
       "      <td>0.281570</td>\n",
       "    </tr>\n",
       "    <tr>\n",
       "      <th>5</th>\n",
       "      <td>0.898543</td>\n",
       "      <td>0.822770</td>\n",
       "      <td>0.664215</td>\n",
       "      <td>0.030099</td>\n",
       "      <td>0.219137</td>\n",
       "    </tr>\n",
       "  </tbody>\n",
       "</table>\n",
       "</div>"
      ],
      "text/plain": [
       "          0         1         2         3         4\n",
       "1  0.703667  0.328596  0.531663  0.416417  0.116442\n",
       "2  0.182759  0.459729  0.240044  0.508214  0.231422\n",
       "3  0.153241  0.649521  0.337734  0.075116  0.204848\n",
       "4  0.899056  0.340281  0.512930  0.988325  0.281570\n",
       "5  0.898543  0.822770  0.664215  0.030099  0.219137"
      ]
     },
     "execution_count": 42,
     "metadata": {},
     "output_type": "execute_result"
    }
   ],
   "source": [
    "newdf.head()"
   ]
  },
  {
   "cell_type": "code",
   "execution_count": 43,
   "id": "5e5d23a4-725d-4432-8dc5-d7435c2794af",
   "metadata": {},
   "outputs": [
    {
     "data": {
      "text/plain": [
       "pandas.core.frame.DataFrame"
      ]
     },
     "execution_count": 43,
     "metadata": {},
     "output_type": "execute_result"
    }
   ],
   "source": [
    "type(newdf)"
   ]
  },
  {
   "cell_type": "code",
   "execution_count": null,
   "id": "7afc14f7-71a6-4ece-9612-ee4ce83925fd",
   "metadata": {},
   "outputs": [],
   "source": [
    " "
   ]
  }
 ],
 "metadata": {
  "kernelspec": {
   "display_name": "Python 3 (ipykernel)",
   "language": "python",
   "name": "python3"
  },
  "language_info": {
   "codemirror_mode": {
    "name": "ipython",
    "version": 3
   },
   "file_extension": ".py",
   "mimetype": "text/x-python",
   "name": "python",
   "nbconvert_exporter": "python",
   "pygments_lexer": "ipython3",
   "version": "3.11.7"
  }
 },
 "nbformat": 4,
 "nbformat_minor": 5
}
